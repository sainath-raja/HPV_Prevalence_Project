{
  "nbformat": 4,
  "nbformat_minor": 0,
  "metadata": {
    "colab": {
      "provenance": []
    },
    "kernelspec": {
      "name": "python3",
      "display_name": "Python 3"
    },
    "language_info": {
      "name": "python"
    }
  },
  "cells": [
    {
      "cell_type": "code",
      "execution_count": null,
      "metadata": {
        "colab": {
          "base_uri": "https://localhost:8080/"
        },
        "id": "j577KGms5Z0m",
        "outputId": "29c64cb3-dd18-4cdd-b265-2d9e448540f3"
      },
      "outputs": [
        {
          "output_type": "stream",
          "name": "stdout",
          "text": [
            "Collecting smogn\n",
            "  Downloading smogn-0.1.2-py3-none-any.whl.metadata (4.5 kB)\n",
            "Requirement already satisfied: numpy in /usr/local/lib/python3.11/dist-packages (from smogn) (2.0.2)\n",
            "Requirement already satisfied: pandas in /usr/local/lib/python3.11/dist-packages (from smogn) (2.2.2)\n",
            "Requirement already satisfied: tqdm in /usr/local/lib/python3.11/dist-packages (from smogn) (4.67.1)\n",
            "Requirement already satisfied: python-dateutil>=2.8.2 in /usr/local/lib/python3.11/dist-packages (from pandas->smogn) (2.9.0.post0)\n",
            "Requirement already satisfied: pytz>=2020.1 in /usr/local/lib/python3.11/dist-packages (from pandas->smogn) (2025.2)\n",
            "Requirement already satisfied: tzdata>=2022.7 in /usr/local/lib/python3.11/dist-packages (from pandas->smogn) (2025.2)\n",
            "Requirement already satisfied: six>=1.5 in /usr/local/lib/python3.11/dist-packages (from python-dateutil>=2.8.2->pandas->smogn) (1.17.0)\n",
            "Downloading smogn-0.1.2-py3-none-any.whl (30 kB)\n",
            "Installing collected packages: smogn\n",
            "Successfully installed smogn-0.1.2\n"
          ]
        }
      ],
      "source": [
        "pip install smogn"
      ]
    },
    {
      "cell_type": "code",
      "source": [
        "import pandas as pd\n",
        "import numpy as np\n",
        "import matplotlib.pyplot as plt\n",
        "import seaborn as sns\n",
        "import smogn\n",
        "import random\n",
        "\n",
        "from sklearn.model_selection import train_test_split\n",
        "from sklearn.metrics import r2_score, mean_squared_error\n",
        "from sklearn.impute import SimpleImputer\n",
        "from sklearn.compose import ColumnTransformer\n",
        "from sklearn.preprocessing import StandardScaler, OneHotEncoder\n",
        "from sklearn.pipeline import Pipeline\n",
        "from xgboost import XGBRegressor\n",
        "from sklearn.linear_model import LassoCV\n",
        "from sklearn.feature_selection import SelectFromModel\n"
      ],
      "metadata": {
        "id": "DKCINQvc5l07"
      },
      "execution_count": null,
      "outputs": []
    },
    {
      "cell_type": "code",
      "source": [
        "# Load Excel file\n",
        "df = pd.read_excel('/content/deduplicated_by_mode.xlsx')\n"
      ],
      "metadata": {
        "id": "MDm59YyW5n7s"
      },
      "execution_count": null,
      "outputs": []
    },
    {
      "cell_type": "code",
      "source": [
        "# Create combined target and drop missing, then copy to avoid SettingWithCopyWarning\n",
        "df[\"NCC_combined\"] = df[[\"NCC-16-prevalence\", \"NCC-18-prevalence\"]].mean(axis=1, skipna=True)\n",
        "df = df.dropna(subset=[\"NCC_combined\"]).copy()\n",
        "\n",
        "# Drop leakage and irrelevant columns\n",
        "drop_cols = [\n",
        "    \"Country\", \"Continent\", \"economy\", \"Sample size studied\",\n",
        "    'NCC-16-cases', 'NCC-18-cases', 'NCC-16-prevalence', 'NCC-18-prevalence',\n",
        "    'Low CIN-16-cases', 'Low CIN-18-cases', 'High CIN-16-cases', 'High CIN-18-cases',\n",
        "    'Low CIN-16-prevalence', 'Low CIN-18-prevalence', 'High CIN-16-prevalence', 'High CIN-18-prevalence',\n",
        "    'ICC - 16 - any - cases', 'ICC - 16 - SCC - cases', 'ICC - 16 - ADC - cases',\n",
        "    'ICC - 18 - any - cases', 'ICC - 18 - SCC - cases', 'ICC - 18 - ADC - cases',\n",
        "    'ICC - 16 - any - prevalence', 'ICC - 16 - SCC - prevalence', 'ICC - 16 - ADC - prevalence',\n",
        "    'ICC - 18 - any - prevalence', 'ICC - 18 - SCC - prevalence', 'ICC - 18 - ADC - prevalence',\n",
        "    'ICC prevalence', 'High CIN prevalence', 'Low CIN prevalence'\n",
        "]\n",
        "df.drop(columns=drop_cols, errors='ignore', inplace=True)\n"
      ],
      "metadata": {
        "id": "DQvpnwR05p30"
      },
      "execution_count": null,
      "outputs": []
    },
    {
      "cell_type": "code",
      "source": [
        "\n",
        "def convert_screening_year(value):\n",
        "    if pd.isnull(value): return np.nan\n",
        "    if isinstance(value, str) and value.strip().lower() in [\"not started\", \"unknown\"]:\n",
        "        return 0\n",
        "    try: return int(value)\n",
        "    except: return np.nan\n",
        "\n",
        "df[\"Screening_Start_Year\"] = df[\"Start of Screening coverage (year)\"].apply(convert_screening_year)\n",
        "\n",
        "circumcision_col = \"Male circumcision (WHO 2007)\"\n",
        "if circumcision_col in df.columns:\n",
        "    df[\"Male circumcision category\"] = df[circumcision_col].map({\"<20\": \"Low\", \"20-80\": \"Medium\", \">80\": \"High\"})\n",
        "    df.drop(columns=[circumcision_col], inplace=True)\n"
      ],
      "metadata": {
        "id": "p1A1yaiO5r6t"
      },
      "execution_count": null,
      "outputs": []
    },
    {
      "cell_type": "code",
      "source": [
        "\n",
        "df[\"TB_Incidence_Percent\"] = (df[\"Incidence of TB\"] / df[\"Population estimate\"]) * 100\n",
        "df[\"Disease_Incidence_Score\"] = df[[\"TB_Incidence_Percent\", \"Hypertension\", \"Diabetes Prevalence\"]].apply(\n",
        "    lambda x: (x - x.min()) / (x.max() - x.min()), axis=0).mean(axis=1)\n",
        "\n",
        "sti_cols = ['STI_SyphilisRate_rateper100k_2021', 'STI_ChlamydialInfectionRate_rateper100k_2021', 'STDRates_GonococcalInfectionRate_rateper100k_2021']\n",
        "df_sti_norm = df[sti_cols].apply(lambda x: (x - x.min()) / (x.max() - x.min()))\n",
        "df['STI_Score'] = df_sti_norm.mean(axis=1)\n",
        "\n",
        "df.drop(columns=[\"TB_Incidence_Percent\", \"Hypertension\", \"Diabetes Prevalence\"] + sti_cols, errors='ignore', inplace=True)\n"
      ],
      "metadata": {
        "id": "yl-oo_ii5t7Q"
      },
      "execution_count": null,
      "outputs": []
    },
    {
      "cell_type": "code",
      "source": [
        "X_all = df.drop(columns=[\"NCC_combined\"])\n",
        "y_all = df[\"NCC_combined\"]\n",
        "\n",
        "numeric_cols = X_all.select_dtypes(include=[\"int64\", \"float64\"]).columns.tolist()\n",
        "categorical_cols = X_all.select_dtypes(include=[\"object\", \"bool\", \"category\"]).columns.tolist()\n",
        "\n",
        "X_all[categorical_cols] = X_all[categorical_cols].astype(str)\n",
        "\n",
        "preprocessor = ColumnTransformer([\n",
        "    (\"num\", Pipeline([\n",
        "        (\"imputer\", SimpleImputer(strategy=\"median\")),\n",
        "        (\"scaler\", StandardScaler())\n",
        "    ]), numeric_cols),\n",
        "    (\"cat\", Pipeline([\n",
        "        (\"imputer\", SimpleImputer(strategy=\"most_frequent\")),\n",
        "        (\"encoder\", OneHotEncoder(drop=\"first\", sparse_output=False, handle_unknown='ignore'))\n",
        "    ]), categorical_cols)\n",
        "])\n",
        "\n",
        "X_preprocessed = preprocessor.fit_transform(X_all)\n"
      ],
      "metadata": {
        "id": "4a0Vapin5wIj"
      },
      "execution_count": null,
      "outputs": []
    },
    {
      "cell_type": "code",
      "source": [
        "lasso = LassoCV(cv=5, random_state=42, max_iter=1500000).fit(X_preprocessed, y_all)\n",
        "selector = SelectFromModel(lasso, threshold=-np.inf, prefit=True)\n",
        "selected_mask = selector.get_support()\n",
        "\n",
        "num_features = preprocessor.named_transformers_['num']['scaler'].get_feature_names_out(numeric_cols)\n",
        "cat_features = preprocessor.named_transformers_['cat']['encoder'].get_feature_names_out(categorical_cols)\n",
        "all_features = np.concatenate([num_features, cat_features])\n",
        "selected_features = all_features[selected_mask]\n",
        "\n",
        "if len(selected_features) == 0:\n",
        "    raise ValueError(\"❌ Lasso selected zero features. Relax the threshold or inspect data quality.\")\n",
        "\n",
        "print(f\"\\n✅ Total selected features after Lasso: {len(selected_features)}\")\n",
        "print(\"Selected features:\")\n",
        "print(list(selected_features))\n"
      ],
      "metadata": {
        "colab": {
          "base_uri": "https://localhost:8080/"
        },
        "id": "zSDaUgna5yLU",
        "outputId": "b6169be3-954b-44a5-cfd7-eea56c51e7c9"
      },
      "execution_count": null,
      "outputs": [
        {
          "output_type": "stream",
          "name": "stdout",
          "text": [
            "\n",
            "✅ Total selected features after Lasso: 60\n",
            "Selected features:\n",
            "['Anemia prevalence among women of reproductive age (% of women ages 15-49)', 'Anemia prevalence among non-pregnant women (% of women ages 15-49)', 'Physicians per 1,000 people', 'Anemia prevalence among pregnant women (%)', 'Mean targeted age', 'Population estimate', 'Smoking Prevalence (Current smoking prevalence females, 2016)', 'Total Fertility rate (2017)', 'Contraception use (updated 2019)', 'HIV Prevalence (in adults)', 'Sexual Initiation age', 'Mean marital age', 'Multiple pregnancies (%age)', 'Condom Use', 'HPV vaccination introduction', 'Age adjusted incidence (standardized rates)', 'Number of deaths (all ages, 2021)', 'Mortality rates (age standardized)', 'Human Development Index (HDI)', 'Life expectancy at birth', 'Expected years of schooling', 'Mean years of schooling', 'Gross national income (GNI) per capita', 'Incidence of TB', 'HPV Vaccine', 'Coverage ever screened of women 30 - 49 years (%)', 'Coverage in last 5 years of women 30 - 49 years (%) ', 'Coverage in last 3 years of women 30 - 49 years (%)', 'Coverage ever screened of women 25 - 65 years (%)', 'Coverage in last 5 years of women 25 - 65 years (%)', 'Coverage in last 3 years of women 25 - 65 years (%)', 'STI_Female', 'STI_combined', 'Screening_Start_Year', 'Disease_Incidence_Score', 'STI_Score', 'Start of Screening coverage (year)_2003', 'Start of Screening coverage (year)_2006', 'Start of Screening coverage (year)_2007', 'Start of Screening coverage (year)_2008', 'Start of Screening coverage (year)_2009', 'Start of Screening coverage (year)_2010', 'Start of Screening coverage (year)_2011', 'Start of Screening coverage (year)_2012', 'Start of Screening coverage (year)_2013', 'Start of Screening coverage (year)_2014', 'Start of Screening coverage (year)_2015', 'Start of Screening coverage (year)_2016', 'Start of Screening coverage (year)_2017', 'Start of Screening coverage (year)_2018', 'Start of Screening coverage (year)_2019', 'Start of Screening coverage (year)_2020', 'Start of Screening coverage (year)_2021', 'Start of Screening coverage (year)_Not started', 'Start of Screening coverage (year)_Unknown', 'Start of Screening coverage (year)_Unkown', 'Start of Screening coverage (year)_nan', 'Male circumcision category_Low', 'Male circumcision category_Medium', 'Male circumcision category_nan']\n"
          ]
        }
      ]
    },
    {
      "cell_type": "code",
      "source": [
        "X_selected_df = pd.DataFrame(X_preprocessed[:, selected_mask], columns=selected_features)\n",
        "X_selected_df.columns = [col.replace('[', '').replace(']', '').replace('<', '').replace('>', '')\n",
        "                         .replace('(', '').replace(')', '').replace('%', 'percent').replace(' ', '_')\n",
        "                         for col in X_selected_df.columns]\n",
        "\n",
        "selected_features = X_selected_df.columns.tolist()\n",
        "df_stable = pd.concat([X_selected_df, y_all.reset_index(drop=True)], axis=1)\n"
      ],
      "metadata": {
        "id": "BSUyuThw5z7D"
      },
      "execution_count": null,
      "outputs": []
    },
    {
      "cell_type": "code",
      "source": [
        "np.random.seed(42)\n",
        "random.seed(42)\n",
        "\n",
        "df_smogn = smogn.smoter(\n",
        "    data=df_stable,\n",
        "    y=\"NCC_combined\",\n",
        "    k=5,\n",
        "    samp_method='extreme',\n",
        "    rel_thres=0.8629513970420527\n",
        ")\n"
      ],
      "metadata": {
        "colab": {
          "base_uri": "https://localhost:8080/"
        },
        "id": "VOezvRzH53PX",
        "outputId": "72722219-ff54-42c1-dda6-ba951cb2d189"
      },
      "execution_count": null,
      "outputs": [
        {
          "output_type": "stream",
          "name": "stderr",
          "text": [
            "dist_matrix: 100%|##########| 14/14 [00:00<00:00, 95.96it/s] \n",
            "synth_matrix: 100%|##########| 14/14 [00:00<00:00, 18.23it/s]\n"
          ]
        }
      ]
    },
    {
      "cell_type": "code",
      "source": [
        "X = df_smogn.drop(columns=[\"NCC_combined\"])\n",
        "y = df_smogn[\"NCC_combined\"]\n",
        "\n",
        "X_train, X_test, y_train, y_test = train_test_split(X, y, test_size=0.2, random_state=42)\n"
      ],
      "metadata": {
        "id": "oPWB5Lm8548L"
      },
      "execution_count": null,
      "outputs": []
    },
    {
      "cell_type": "code",
      "source": [
        "final_model = XGBRegressor(\n",
        "    objective='reg:squarederror',\n",
        "    random_state=42,\n",
        "    n_estimators=200,\n",
        "    max_depth=4,\n",
        "    learning_rate=0.010432920541221915,\n",
        "    subsample=0.858663879924028,\n",
        "    colsample_bytree=0.7469584920796172,\n",
        "    gamma=2.85974989985308,\n",
        "    reg_alpha=2.4259824683569735,\n",
        "    reg_lambda=4.906137291714221\n",
        ")\n",
        "\n",
        "final_model.fit(X_train, y_train)\n",
        "y_train_pred = final_model.predict(X_train)\n",
        "y_test_pred = final_model.predict(X_test)\n"
      ],
      "metadata": {
        "id": "7vyzZNk957D0"
      },
      "execution_count": null,
      "outputs": []
    },
    {
      "cell_type": "code",
      "source": [
        "def relative_rmse(y_true, y_pred):\n",
        "    rmse = np.sqrt(mean_squared_error(y_true, y_pred))\n",
        "    return rmse / np.mean(y_true)\n",
        "\n",
        "print(\"\\n🔧 Used Hyperparameters:\")\n",
        "print(final_model.get_params())\n",
        "\n",
        "print(\"\\n📊 Performance Metrics:\")\n",
        "print(f\"Train R²: {r2_score(y_train, y_train_pred):.4f}\")\n",
        "print(f\"Test R²:  {r2_score(y_test, y_test_pred):.4f}\")\n",
        "print(f\"Train MSE: {mean_squared_error(y_train, y_train_pred):.4f}\")\n",
        "print(f\"Test MSE:  {mean_squared_error(y_test, y_test_pred):.4f}\")\n",
        "print(f\"Train Relative RMSE: {relative_rmse(y_train, y_train_pred):.4f}\")\n",
        "print(f\"Test Relative RMSE:  {relative_rmse(y_test, y_test_pred):.4f}\")\n"
      ],
      "metadata": {
        "colab": {
          "base_uri": "https://localhost:8080/"
        },
        "id": "k4D9y6vP58-R",
        "outputId": "90c23432-761f-42c6-ae35-70bd6a09daac"
      },
      "execution_count": null,
      "outputs": [
        {
          "output_type": "stream",
          "name": "stdout",
          "text": [
            "\n",
            "🔧 Used Hyperparameters:\n",
            "{'objective': 'reg:squarederror', 'base_score': None, 'booster': None, 'callbacks': None, 'colsample_bylevel': None, 'colsample_bynode': None, 'colsample_bytree': 0.7469584920796172, 'device': None, 'early_stopping_rounds': None, 'enable_categorical': False, 'eval_metric': None, 'feature_types': None, 'gamma': 2.85974989985308, 'grow_policy': None, 'importance_type': None, 'interaction_constraints': None, 'learning_rate': 0.010432920541221915, 'max_bin': None, 'max_cat_threshold': None, 'max_cat_to_onehot': None, 'max_delta_step': None, 'max_depth': 4, 'max_leaves': None, 'min_child_weight': None, 'missing': nan, 'monotone_constraints': None, 'multi_strategy': None, 'n_estimators': 200, 'n_jobs': None, 'num_parallel_tree': None, 'random_state': 42, 'reg_alpha': 2.4259824683569735, 'reg_lambda': 4.906137291714221, 'sampling_method': None, 'scale_pos_weight': None, 'subsample': 0.858663879924028, 'tree_method': None, 'validate_parameters': None, 'verbosity': None}\n",
            "\n",
            "📊 Performance Metrics:\n",
            "Train R²: 0.8578\n",
            "Test R²:  0.7238\n",
            "Train MSE: 15.9139\n",
            "Test MSE:  26.6046\n",
            "Train Relative RMSE: 0.3615\n",
            "Test Relative RMSE:  0.5351\n"
          ]
        }
      ]
    },
    {
      "cell_type": "code",
      "source": [
        "import pandas as pd\n",
        "import numpy as np\n",
        "import matplotlib.pyplot as plt\n",
        "import seaborn as sns\n",
        "import warnings\n",
        "warnings.filterwarnings(\"ignore\")\n",
        "\n",
        "# 📥 Load Indian data\n",
        "india_df = pd.read_excel('/content/india_imputed_full_covariates7.xlsx')\n",
        "\n",
        "# --- FEATURE ENGINEERING (same as training) ---\n",
        "india_df[\"TB_Incidence_Percent\"] = india_df[\"Incidence of TB\"] / india_df[\"Population estimate\"] * 100\n",
        "\n",
        "# Disease incidence normalization\n",
        "disease_cols = [\"TB_Incidence_Percent\", \"Hypertension\", \"Diabetes Prevalence\"]\n",
        "df_norm = india_df[disease_cols].apply(lambda x: (x - x.min()) / (x.max() - x.min()))\n",
        "india_df[\"Disease_Incidence_Score\"] = df_norm.mean(axis=1)\n",
        "india_df.drop(columns=disease_cols, inplace=True)\n",
        "\n",
        "# Convert screening year column\n",
        "def convert_screening_year(value):\n",
        "    if pd.isnull(value): return np.nan\n",
        "    try: return int(value)\n",
        "    except: return 0\n",
        "\n",
        "if \"Start of Screening coverage (year)\" in india_df.columns:\n",
        "    india_df[\"Start of Screening coverage (year)\"] = india_df[\"Start of Screening coverage (year)\"].apply(convert_screening_year)\n",
        "\n",
        "# Map male circumcision category\n",
        "circ_col = \"Male circumcision (WHO 2007)\"\n",
        "if circ_col in india_df.columns and india_df[circ_col].dtype == object:\n",
        "    india_df[circ_col] = india_df[circ_col].map({\"<20\": \"Low\", \"20-80\": \"Medium\", \">80\": \"High\"})\n",
        "\n",
        "sti_cols = [\n",
        "    'STI_SyphilisRate_rateper100k_2021',\n",
        "    'STI_ChlamydialInfectionRate_rateper100k_2021',\n",
        "    'STDRates_GonococcalInfectionRate_rateper100k_2021'\n",
        "]\n",
        "df_sti = india_df[sti_cols].apply(lambda x: (x - x.min()) / (x.max() - x.min()))\n",
        "india_df['STI_Score'] = df_sti.mean(axis=1)\n",
        "india_df.drop(columns=sti_cols, inplace=True)\n",
        "\n",
        "if 'State/UT' in india_df.columns:\n",
        "    india_df.drop(columns=['State/UT'], inplace=True)\n",
        "\n",
        "expected_cols = preprocessor.feature_names_in_\n",
        "\n",
        "for col in expected_cols:\n",
        "    if col not in india_df.columns:\n",
        "        india_df[col] = np.nan\n",
        "\n",
        "india_df = india_df[expected_cols]\n",
        "\n",
        "categorical_cols = india_df.select_dtypes(include=[\"object\", \"category\", \"bool\"]).columns.tolist()\n",
        "india_df[categorical_cols] = india_df[categorical_cols].astype(str)\n",
        "\n",
        "X_india_preprocessed = preprocessor.transform(india_df)\n",
        "X_india_selected = X_india_preprocessed[:, selected_mask]\n",
        "predicted_prevalence = final_model.predict(X_india_selected)\n",
        "\n",
        "india_df['Predicted_NCC_combined'] = predicted_prevalence\n",
        "india_df.to_excel(\"india_predictions_NCC_combined.xlsx\", index=False)\n",
        "\n",
        "plt.figure(figsize=(10, 5))\n",
        "sns.histplot(predicted_prevalence, bins=20, kde=True, color='coral', edgecolor='black')\n",
        "plt.title(\"Predicted NCC_combined for Indian States\")\n",
        "plt.xlabel(\"Predicted Prevalence\")\n",
        "plt.ylabel(\"Number of States\")\n",
        "plt.grid(True)\n",
        "plt.tight_layout()\n",
        "plt.show()\n"
      ],
      "metadata": {
        "colab": {
          "base_uri": "https://localhost:8080/",
          "height": 507
        },
        "id": "0_YYezdP5_GU",
        "outputId": "918ab840-1aff-4fc6-e594-ad01fdf95068"
      },
      "execution_count": null,
      "outputs": [
        {
          "output_type": "display_data",
          "data": {
            "text/plain": [
              "<Figure size 1000x500 with 1 Axes>"
            ],
            "image/png": "[encoded data removed]"
          },
          "metadata": {}
        }
      ]
    },
    {
      "cell_type": "code",
      "source": [],
      "metadata": {
        "id": "qsLwtZI36KGk"
      },
      "execution_count": null,
      "outputs": []
    }
  ]
}